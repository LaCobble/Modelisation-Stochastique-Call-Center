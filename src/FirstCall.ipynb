{
 "cells": [
  {
   "cell_type": "markdown",
   "metadata": {},
   "source": [
    "# Stocha\n",
    "## 1er call"
   ]
  },
  {
   "cell_type": "markdown",
   "metadata": {},
   "source": [
    "### Chargement et Préparation des Données"
   ]
  },
  {
   "cell_type": "code",
   "execution_count": 1,
   "metadata": {},
   "outputs": [
    {
     "name": "stdout",
     "output_type": "stream",
     "text": [
      "<class 'pandas.core.frame.DataFrame'>\n",
      "RangeIndex: 6312590 entries, 0 to 6312589\n",
      "Data columns (total 7 columns):\n",
      " #   Column            Dtype   \n",
      "---  ------            -----   \n",
      " 0   lead_id           object  \n",
      " 1   date_a1           object  \n",
      " 2   weekday_a1        category\n",
      " 3   hour_a1           category\n",
      " 4   duration_a1       int64   \n",
      " 5   caller_id_a1      object  \n",
      " 6   lead_answered_a1  category\n",
      "dtypes: category(3), int64(1), object(3)\n",
      "memory usage: 210.7+ MB\n"
     ]
    }
   ],
   "source": [
    "import pandas as pd\n",
    "\n",
    "# Chargement des données du premier appel\n",
    "calls_a1 = pd.read_csv('./calls_a1.csv/calls_a1.csv')\n",
    "\n",
    "# Conversion des variables catégorielles\n",
    "var_cat = [\"weekday_a1\", \"hour_a1\", \"lead_answered_a1\"]\n",
    "for var in var_cat:\n",
    "    calls_a1[var] = calls_a1[var].astype('category')\n",
    "\n",
    "calls_a1.info()\n"
   ]
  },
  {
   "cell_type": "markdown",
   "metadata": {},
   "source": [
    "### Création du Modèle Bayésien"
   ]
  },
  {
   "cell_type": "code",
   "execution_count": 2,
   "metadata": {},
   "outputs": [],
   "source": [
    "import pyAgrum as gum\n",
    "\n",
    "# Définir les variables pour le modèle\n",
    "var_to_model = [\"weekday_a1\", \"hour_a1\", \"lead_answered_a1\"]\n",
    "\n",
    "# Créer les variables du réseau bayésien\n",
    "var_bn = {}\n",
    "for var in var_to_model:\n",
    "    nb_values = len(calls_a1[var].cat.categories)\n",
    "    var_bn[var] = gum.LabelizedVariable(var, var, nb_values)\n",
    "\n",
    "# Renseigner les modalités des variables\n",
    "for var in var_bn:\n",
    "    for i, modalite in enumerate(calls_a1[var].cat.categories):\n",
    "        var_bn[var].changeLabel(i, modalite)\n",
    "\n",
    "# Créer le réseau bayésien et ajouter les variables\n",
    "bn = gum.BayesNet(\"model_first_call\")\n",
    "for var in var_bn.values():\n",
    "    bn.add(var)\n",
    "\n",
    "# Fixer la structure\n",
    "bn.addArc(\"weekday_a1\", \"lead_answered_a1\")\n",
    "bn.addArc(\"hour_a1\", \"lead_answered_a1\")\n"
   ]
  },
  {
   "cell_type": "markdown",
   "metadata": {},
   "source": [
    "### Apprentissage des Paramètres"
   ]
  },
  {
   "cell_type": "code",
   "execution_count": 3,
   "metadata": {},
   "outputs": [
    {
     "name": "stdout",
     "output_type": "stream",
     "text": [
      "\n",
      "  weekday_a1                                     |\n",
      "0Monday  |1Tuesday |2Wednesda|3Thursday|4Friday  |\n",
      "---------|---------|---------|---------|---------|\n",
      " 0.1835  | 0.2109  | 0.2114  | 0.2071  | 0.1871  |\n",
      "\n",
      "\n",
      "  hour_a1                                                                                |\n",
      "h10      |h11      |h12      |h14      |h15      |h16      |h17      |h18      |h19      |\n",
      "---------|---------|---------|---------|---------|---------|---------|---------|---------|\n",
      " 0.1099  | 0.1256  | 0.1255  | 0.0838  | 0.1189  | 0.1215  | 0.0900  | 0.1155  | 0.1091  |\n",
      "\n",
      "\n",
      "             ||  lead_answered_a1 |\n",
      "weekda|hour_a||no       |yes      |\n",
      "------|------||---------|---------|\n",
      "0Monda|h10   || 0.7627  | 0.2373  |\n",
      "1Tuesd|h10   || 0.7717  | 0.2283  |\n",
      "2Wedne|h10   || 0.7595  | 0.2405  |\n",
      "3Thurs|h10   || 0.7825  | 0.2175  |\n",
      "4Frida|h10   || 0.7815  | 0.2185  |\n",
      "0Monda|h11   || 0.7608  | 0.2392  |\n",
      "[...33 more line(s) ...]\n",
      "4Frida|h18   || 0.7665  | 0.2335  |\n",
      "0Monda|h19   || 0.7640  | 0.2360  |\n",
      "1Tuesd|h19   || 0.7665  | 0.2335  |\n",
      "2Wedne|h19   || 0.7716  | 0.2284  |\n",
      "3Thurs|h19   || 0.7789  | 0.2211  |\n",
      "4Frida|h19   || 0.7750  | 0.2250  |\n",
      "\n"
     ]
    }
   ],
   "source": [
    "# Utiliser BNLearner pour apprendre les paramètres des LPC\n",
    "learner = gum.BNLearner(calls_a1[var_to_model])\n",
    "learner.fitParameters(bn)\n",
    "\n",
    "# Afficher les LPC apprises\n",
    "print(bn.cpt(\"weekday_a1\"))\n",
    "print(bn.cpt(\"hour_a1\"))\n",
    "print(bn.cpt(\"lead_answered_a1\"))\n"
   ]
  },
  {
   "cell_type": "markdown",
   "metadata": {},
   "source": [
    "### Prédictions"
   ]
  },
  {
   "cell_type": "code",
   "execution_count": 4,
   "metadata": {},
   "outputs": [
    {
     "name": "stdout",
     "output_type": "stream",
     "text": [
      "Accuracy: 0.7442255774422558\n",
      "pred                no\n",
      "lead_answered_a1      \n",
      "no                7443\n",
      "yes               2558\n"
     ]
    }
   ],
   "source": [
    "import numpy as np\n",
    "import sys\n",
    "\n",
    "def predict(bn, data, var_target, show_progress=False):\n",
    "    \"\"\"\n",
    "    Cette fonction prédit la probabilité postérieure d'une variable cible à partir des observations\n",
    "    en utilisant un modèle de réseau bayésien.\n",
    "    \"\"\"\n",
    "    # Initialiser le moteur d'inférence\n",
    "    inf_bn = gum.LazyPropagation(bn)\n",
    "    inf_bn.setTargets({var_target})\n",
    "    nb_data = len(data)\n",
    "    target_size = bn.variable(var_target).domainSize()\n",
    "    target_dom = np.array([bn.variable(var_target).label(i) for i in range(target_size)])\n",
    "    data_records = data.to_dict(\"records\")\n",
    "    post_prob = np.zeros((nb_data, target_size))\n",
    "    \n",
    "    for i in range(nb_data):\n",
    "        inf_bn.setEvidence(data_records[i])\n",
    "        inf_bn.makeInference()\n",
    "        post_prob[i, :] = inf_bn.posterior(var_target).toarray()\n",
    "        inf_bn.eraseAllEvidence()\n",
    "        if show_progress:\n",
    "            sys.stdout.write(\"predict progress: {0:3.0%}\\r\".format(i/nb_data))\n",
    "\n",
    "    post_prob_df = pd.DataFrame(post_prob, index=data.index, columns=bn.variable(var_target).labels())\n",
    "    post_prob_df.columns.name = var_target\n",
    "    return post_prob_df\n",
    "\n",
    "# Utiliser les premières lignes des données pour les prédictions\n",
    "pred_prob = predict(bn, data=calls_a1.loc[:10000, [\"weekday_a1\", \"hour_a1\"]], var_target=\"lead_answered_a1\", show_progress=True)\n",
    "\n",
    "# Prédictions finales\n",
    "pred_var = pred_prob.idxmax(axis=1).rename(\"pred\")\n",
    "\n",
    "# Évaluer le taux de prédictions correctes\n",
    "accuracy = (calls_a1.loc[:10000, \"lead_answered_a1\"] == pred_var).mean()\n",
    "print(\"Accuracy:\", accuracy)\n",
    "\n",
    "# Matrice de confusion\n",
    "confusion_matrix = pd.crosstab(calls_a1.loc[:10000, \"lead_answered_a1\"], pred_var)\n",
    "print(confusion_matrix)"
   ]
  },
  {
   "cell_type": "markdown",
   "metadata": {},
   "source": [
    "### --- --- ---"
   ]
  },
  {
   "cell_type": "markdown",
   "metadata": {},
   "source": [
    "### Générer les Combinaisons de Jours et Heures"
   ]
  },
  {
   "cell_type": "code",
   "execution_count": 5,
   "metadata": {},
   "outputs": [],
   "source": [
    "import itertools\n",
    "import pandas as pd\n",
    "\n",
    "# Générer toutes les combinaisons possibles de jours et d'heures\n",
    "weekdays = calls_a1['weekday_a1'].cat.categories\n",
    "hours = calls_a1['hour_a1'].cat.categories\n",
    "\n",
    "combinations = list(itertools.product(weekdays, hours))\n",
    "test_data = pd.DataFrame(combinations, columns=['weekday_a1', 'hour_a1'])\n",
    "\n",
    "# Convertir les colonnes en type 'category'\n",
    "test_data['weekday_a1'] = test_data['weekday_a1'].astype('category')\n",
    "test_data['hour_a1'] = test_data['hour_a1'].astype('category')\n"
   ]
  },
  {
   "cell_type": "markdown",
   "metadata": {},
   "source": [
    "### Prédire les Probabilités"
   ]
  },
  {
   "cell_type": "code",
   "execution_count": 6,
   "metadata": {},
   "outputs": [],
   "source": [
    "# Utiliser la fonction predict pour obtenir les probabilités de réponse\n",
    "pred_prob = predict(bn, data=test_data, var_target='lead_answered_a1', show_progress=False)\n",
    "\n",
    "# Ajouter les probabilités de réponse à test_data\n",
    "test_data['prob_no'] = pred_prob['no']\n",
    "test_data['prob_yes'] = pred_prob['yes']\n"
   ]
  },
  {
   "cell_type": "markdown",
   "metadata": {},
   "source": [
    "### Trouver les Combinaisons Optimales"
   ]
  },
  {
   "cell_type": "code",
   "execution_count": 7,
   "metadata": {},
   "outputs": [
    {
     "name": "stdout",
     "output_type": "stream",
     "text": [
      "    weekday_a1 hour_a1   prob_no  prob_yes\n",
      "2      0Monday     h12  0.751734  0.248266\n",
      "6      0Monday     h17  0.752140  0.247860\n",
      "19  2Wednesday     h11  0.755945  0.244055\n",
      "4      0Monday     h15  0.756006  0.243994\n",
      "18  2Wednesday     h10  0.759452  0.240548\n",
      "23  2Wednesday     h16  0.760297  0.239703\n",
      "16    1Tuesday     h18  0.760313  0.239687\n",
      "5      0Monday     h16  0.760712  0.239288\n",
      "1      0Monday     h11  0.760780  0.239220\n",
      "20  2Wednesday     h12  0.761851  0.238149\n"
     ]
    }
   ],
   "source": [
    "# Trier les combinaisons par probabilité décroissante de réponse positive\n",
    "optimal_times = test_data.sort_values(by='prob_yes', ascending=False)\n",
    "print(optimal_times.head(10))"
   ]
  }
 ],
 "metadata": {
  "kernelspec": {
   "display_name": "Python 3",
   "language": "python",
   "name": "python3"
  },
  "language_info": {
   "codemirror_mode": {
    "name": "ipython",
    "version": 3
   },
   "file_extension": ".py",
   "mimetype": "text/x-python",
   "name": "python",
   "nbconvert_exporter": "python",
   "pygments_lexer": "ipython3",
   "version": "3.11.4"
  }
 },
 "nbformat": 4,
 "nbformat_minor": 2
}
