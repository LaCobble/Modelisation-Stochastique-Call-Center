{
 "cells": [
  {
   "cell_type": "markdown",
   "metadata": {},
   "source": [
    "# Stochastique Project"
   ]
  },
  {
   "cell_type": "markdown",
   "metadata": {},
   "source": [
    "Colonne\tDescription\n",
    "lead_id\tID du numéro appelé (le prospect)\n",
    "date_a{k}\tDate à laquelle le prospect (lead_id) a été contacté lors de la tentative k\n",
    "duration_a{k}\tDurée de l'appel lors de la tentative k\n",
    "caller_id_a{k}\tID du numéro utilisé pour appeler le prospect (lead_id) lors de la tentative k\n",
    "lead_answered_a{k}\tIndique si le prospect (lead_id) a répondu lors de la tentative k\n",
    "caller_has_changed_a{k}\tIndique si le numéro appelant (caller_id) a changé entre la tentative k-1 et k"
   ]
  },
  {
   "cell_type": "code",
   "execution_count": 1,
   "metadata": {},
   "outputs": [
    {
     "name": "stdout",
     "output_type": "stream",
     "text": [
      "Chargement du fichier calls_a1.csv.bz2\n",
      "Chargement du fichier calls_a2.csv.bz2\n",
      "Chargement du fichier calls_a3.csv.bz2\n",
      "Chargement du fichier calls_a4.csv.bz2\n"
     ]
    }
   ],
   "source": [
    "# code permettant de charger tous les fichiers de données et de les stocker dans un dictionnaire\n",
    "\n",
    "import pandas as pd\n",
    "import tabulate\n",
    "\n",
    "calls_dfd = {}\n",
    "for k in range(1, 5):\n",
    "    data_filename = f\"calls_a{k}.csv.bz2\"\n",
    "    print(f\"Chargement du fichier {data_filename}\")\n",
    "    calls_dfd[f\"a{k}\"] = pd.read_csv(\n",
    "        data_filename,\n",
    "        parse_dates=[f\"date_a{k_bis}\" for k_bis in range(1, k + 1)],\n",
    "    )"
   ]
  },
  {
   "cell_type": "code",
   "execution_count": 2,
   "metadata": {},
   "outputs": [
    {
     "name": "stdout",
     "output_type": "stream",
     "text": [
      "| lead_id      | date_a1             | weekday_a1   | hour_a1   |   duration_a1 | caller_id_a1   | lead_answered_a1   | date_a2             | weekday_a2   | hour_a2   |   duration_a2 | caller_id_a2   | lead_answered_a2   | caller_has_changed_a2   |\n",
      "|--------------+---------------------+--------------+-----------+---------------+----------------+--------------------+---------------------+--------------+-----------+---------------+----------------+--------------------+-------------------------|\n",
      "| fdeae76d3fef | 2020-04-03 10:05:49 | 0Monday      | h10       |             2 | 1e540d0ac463   | no                 | 2020-04-06 18:28:15 | 3Thursday    | h18       |             2 | 08fcb33240a2   | no                 | yes                     |\n",
      "| 73c015525161 | 2020-04-03 10:05:50 | 0Monday      | h10       |             2 | 159e9c0a04f6   | no                 | 2020-04-06 18:28:15 | 3Thursday    | h18       |             2 | f986b4d3e9dd   | no                 | yes                     |\n",
      "| c718221df1be | 2020-04-03 10:06:01 | 0Monday      | h10       |             3 | da44d3138279   | no                 | 2020-04-06 18:28:16 | 3Thursday    | h18       |             3 | b7824c80c481   | no                 | yes                     |\n",
      "| 912712707f41 | 2020-04-03 10:07:54 | 0Monday      | h10       |             2 | 1a3960780bb2   | no                 | 2020-04-06 18:28:16 | 3Thursday    | h18       |             2 | 385232287fc4   | no                 | yes                     |\n",
      "| 6b6797b56ae7 | 2020-04-03 10:08:05 | 0Monday      | h10       |             3 | 1a3960780bb2   | no                 | 2020-04-06 18:28:16 | 3Thursday    | h18       |            23 | 385232287fc4   | yes                | yes                     |\n"
     ]
    }
   ],
   "source": [
    "import tabulate\n",
    "\n",
    "# Affichage des premiers numéros ayant été contactés lors de la 2ème tentative :\n",
    "print(tabulate.tabulate(calls_dfd[\"a2\"].head(5), tablefmt=\"orgtbl\", headers=\"keys\", showindex=False))\n"
   ]
  },
  {
   "cell_type": "code",
   "execution_count": 3,
   "metadata": {},
   "outputs": [
    {
     "data": {
      "text/plain": [
       "'|        | lead_id      | weekday_a1   | hour_a1   | caller_id_a1   | lead_answered_a1   | weekday_a2   | hour_a2   | caller_id_a2   | lead_answered_a2   | caller_has_changed_a2   |\\n|--------+--------------+--------------+-----------+----------------+--------------------+--------------+-----------+----------------+--------------------+-------------------------|\\n| count  | 2824096      | 2824096      | 2824096   | 2824096        | 2824096            | 2824096      | 2824096   | 2824096        | 2824096            | 2824096                 |\\n| unique | 2761053      | 5            | 9         | 900            | 1                  | 5            | 9         | 987            | 2                  | 2                       |\\n| top    | 40f09fe86afe | 2Wednesday   | h11       | 094fd601829a   | no                 | 3Thursday    | h11       | 094fd601829a   | no                 | yes                     |\\n| freq   | 3            | 620362       | 371260    | 56839          | 2824096            | 711154       | 387335    | 56846          | 2378305            | 2750376                 |'"
      ]
     },
     "execution_count": 3,
     "metadata": {},
     "output_type": "execute_result"
    }
   ],
   "source": [
    "# Analyse des variables catégorielles pour les données de la 2ème tentative.\n",
    "\n",
    "tabulate.tabulate(calls_dfd[\"a2\"].describe(include=\"O\"), tablefmt=\"orgtbl\", headers=\"keys\")"
   ]
  },
  {
   "cell_type": "code",
   "execution_count": 4,
   "metadata": {},
   "outputs": [
    {
     "data": {
      "text/plain": [
       "lead_answered_a1\n",
       "no     4847340\n",
       "yes    1465250\n",
       "Name: count, dtype: int64"
      ]
     },
     "execution_count": 4,
     "metadata": {},
     "output_type": "execute_result"
    }
   ],
   "source": [
    "# Analyse des numéros qui ont décroché à la première tentative.\n",
    "\n",
    "calls_dfd[\"a1\"][\"lead_answered_a1\"].value_counts()"
   ]
  },
  {
   "cell_type": "code",
   "execution_count": 5,
   "metadata": {},
   "outputs": [
    {
     "data": {
      "text/plain": [
       "2824096"
      ]
     },
     "execution_count": 5,
     "metadata": {},
     "output_type": "execute_result"
    }
   ],
   "source": [
    "# Récupération du nombre de numéros appelés lors de la deuxième tentative :\n",
    "\n",
    "len(calls_dfd[\"a2\"])"
   ]
  },
  {
   "cell_type": "code",
   "execution_count": 6,
   "metadata": {},
   "outputs": [
    {
     "name": "stdout",
     "output_type": "stream",
     "text": [
      "<class 'pandas.core.frame.DataFrame'>\n",
      "RangeIndex: 2824096 entries, 0 to 2824095\n",
      "Data columns (total 14 columns):\n",
      " #   Column                 Dtype         \n",
      "---  ------                 -----         \n",
      " 0   lead_id                object        \n",
      " 1   date_a1                datetime64[ns]\n",
      " 2   weekday_a1             category      \n",
      " 3   hour_a1                category      \n",
      " 4   duration_a1            int64         \n",
      " 5   caller_id_a1           object        \n",
      " 6   lead_answered_a1       object        \n",
      " 7   date_a2                datetime64[ns]\n",
      " 8   weekday_a2             category      \n",
      " 9   hour_a2                category      \n",
      " 10  duration_a2            int64         \n",
      " 11  caller_id_a2           object        \n",
      " 12  lead_answered_a2       category      \n",
      " 13  caller_has_changed_a2  category      \n",
      "dtypes: category(6), datetime64[ns](2), int64(2), object(4)\n",
      "memory usage: 188.5+ MB\n"
     ]
    }
   ],
   "source": [
    "# Préparation des données\n",
    "# On change le type des variables catégorielles avec la méthode .astype('category') :\n",
    "\n",
    "var_cat = [\"weekday_a1\", \"hour_a1\", \"weekday_a2\", \"hour_a2\", \"caller_has_changed_a2\", \"lead_answered_a2\"]\n",
    "for var in var_cat:\n",
    "    calls_dfd[\"a2\"][var] = calls_dfd[\"a2\"][var].astype('category')\n",
    "\n",
    "calls_dfd[\"a2\"].info()"
   ]
  },
  {
   "cell_type": "code",
   "execution_count": 7,
   "metadata": {},
   "outputs": [],
   "source": [
    "# Création d'un premier modèle\n",
    "# Nous proposons de créer un modèle permettant d'expliquer la variable lead_answered_a2 à partir de hour_a1 et hour_a2.\n",
    "\n",
    "# On commence par créer les variables du réseau.\n",
    "\n",
    "import pyAgrum as gum\n",
    "\n",
    "var_to_model = [\"hour_a1\", \"hour_a2\", \"lead_answered_a2\"]\n",
    "\n",
    "var_bn = {}\n",
    "for var in var_to_model:\n",
    "    nb_values = len(calls_dfd[\"a2\"][var].cat.categories)\n",
    "    var_bn[var] = gum.LabelizedVariable(var, var, nb_values)\n",
    "\n",
    "# On renseigne les modalités des variables pour être fidèle à celles des données.\n",
    "\n",
    "for var in var_bn:\n",
    "    for i, modalite in enumerate(calls_dfd[\"a2\"][var].cat.categories):\n",
    "        var_bn[var].changeLabel(i, modalite)\n",
    "# Ensuite, on crée le réseau bayésien et on ajoute les variables sélectionnées.\n",
    "\n",
    "bn = gum.BayesNet(\"modèle simple\")\n",
    "\n",
    "for var in var_bn.values():\n",
    "    bn.add(var)\n",
    "# Pour finir, on fixe la structure.\n",
    "\n",
    "bn.addArc(\"hour_a1\", \"lead_answered_a2\")\n",
    "bn.addArc(\"hour_a2\", \"lead_answered_a2\")"
   ]
  },
  {
   "cell_type": "code",
   "execution_count": 8,
   "metadata": {},
   "outputs": [
    {
     "data": {
      "text/plain": [
       "(pyAgrum.Potential<double>@00000250E04F9780) \n",
       "  hour_a1                                                                                |\n",
       "h10      |h11      |h12      |h14      |h15      |h16      |h17      |h18      |h19      |\n",
       "---------|---------|---------|---------|---------|---------|---------|---------|---------|\n",
       " 0.0000  | 0.0000  | 0.0000  | 0.0000  | 0.0000  | 0.0000  | 0.0000  | 0.0000  | 0.0000  |"
      ]
     },
     "execution_count": 8,
     "metadata": {},
     "output_type": "execute_result"
    }
   ],
   "source": [
    "# PC de hour_a1 :\n",
    "\n",
    "bn.cpt(\"hour_a1\")"
   ]
  },
  {
   "cell_type": "code",
   "execution_count": 9,
   "metadata": {},
   "outputs": [
    {
     "data": {
      "text/plain": [
       "(pyAgrum.Potential<double>@00000250E04F9B80) \n",
       "  hour_a2                                                                                |\n",
       "h10      |h11      |h12      |h14      |h15      |h16      |h17      |h18      |h19      |\n",
       "---------|---------|---------|---------|---------|---------|---------|---------|---------|\n",
       " 0.0000  | 0.0000  | 0.0000  | 0.0000  | 0.0000  | 0.0000  | 0.0000  | 0.0000  | 0.0000  |"
      ]
     },
     "execution_count": 9,
     "metadata": {},
     "output_type": "execute_result"
    }
   ],
   "source": [
    "# LPC de hour_a2 :\n",
    "\n",
    "bn.cpt(\"hour_a2\")"
   ]
  },
  {
   "cell_type": "code",
   "execution_count": 10,
   "metadata": {},
   "outputs": [
    {
     "data": {
      "text/plain": [
       "(pyAgrum.Potential<double>@00000250E04F9980) \n",
       "             ||  lead_answered_a2 |\n",
       "hour_a|hour_a||no       |yes      |\n",
       "------|------||---------|---------|\n",
       "h10   |h10   || 0.0000  | 0.0000  |\n",
       "h11   |h10   || 0.0000  | 0.0000  |\n",
       "h12   |h10   || 0.0000  | 0.0000  |\n",
       "h14   |h10   || 0.0000  | 0.0000  |\n",
       "h15   |h10   || 0.0000  | 0.0000  |\n",
       "h16   |h10   || 0.0000  | 0.0000  |\n",
       "[...69 more line(s) ...]\n",
       "h14   |h19   || 0.0000  | 0.0000  |\n",
       "h15   |h19   || 0.0000  | 0.0000  |\n",
       "h16   |h19   || 0.0000  | 0.0000  |\n",
       "h17   |h19   || 0.0000  | 0.0000  |\n",
       "h18   |h19   || 0.0000  | 0.0000  |\n",
       "h19   |h19   || 0.0000  | 0.0000  |"
      ]
     },
     "execution_count": 10,
     "metadata": {},
     "output_type": "execute_result"
    }
   ],
   "source": [
    "# LPC de probabilité de lead_answered_a2 | hour_a1, hour_a2 :\n",
    "\n",
    "bn.cpt(\"lead_answered_a2\")\n",
    "\n",
    "# On remarque naturellement que les LPC ne contiennent pour l'instant que des zéros…"
   ]
  },
  {
   "cell_type": "code",
   "execution_count": 11,
   "metadata": {},
   "outputs": [
    {
     "data": {
      "text/plain": [
       "(pyAgrum.BNLearner<double>@00000250A669A030) Filename       : C:\\Users\\pierr\\AppData\\Local\\Temp\\tmpl62b3ea2.csv\n",
       "Size           : (2824096,3)\n",
       "Variables      : hour_a1[9], hour_a2[9], lead_answered_a2[2]\n",
       "Induced types  : True\n",
       "Missing values : False\n",
       "Algorithm      : MIIC\n",
       "Score          : BDeu  (Not used for constraint-based algorithms)\n",
       "Correction     : MDL  (Not used for score-based algorithms)\n",
       "Prior          : -"
      ]
     },
     "execution_count": 11,
     "metadata": {},
     "output_type": "execute_result"
    }
   ],
   "source": [
    "# Apprentissage des LPC\n",
    "# Pour apprendre les paramètres des LPC à partir des données, vous pouvez utiliser la classe gum.BNLearner et en particulier la méthode fitParameters:\n",
    "\n",
    "learner = gum.BNLearner(calls_dfd[\"a2\"][var_to_model])\n",
    "\n",
    "learner.fitParameters(bn)"
   ]
  },
  {
   "cell_type": "code",
   "execution_count": 12,
   "metadata": {},
   "outputs": [
    {
     "data": {
      "text/plain": [
       "(pyAgrum.Potential<double>@00000250E04F9780) \n",
       "  hour_a1                                                                                |\n",
       "h10      |h11      |h12      |h14      |h15      |h16      |h17      |h18      |h19      |\n",
       "---------|---------|---------|---------|---------|---------|---------|---------|---------|\n",
       " 0.1176  | 0.1315  | 0.1298  | 0.0880  | 0.1178  | 0.1182  | 0.0844  | 0.1067  | 0.1059  |"
      ]
     },
     "execution_count": 12,
     "metadata": {},
     "output_type": "execute_result"
    }
   ],
   "source": [
    "# Après apprentissage, nous obtenons les LPC suivantes. LPC de hour_a1 :\n",
    "\n",
    "bn.cpt(\"hour_a1\")"
   ]
  },
  {
   "cell_type": "code",
   "execution_count": 13,
   "metadata": {},
   "outputs": [
    {
     "data": {
      "text/plain": [
       "(pyAgrum.Potential<double>@00000250E04F9B80) \n",
       "  hour_a2                                                                                |\n",
       "h10      |h11      |h12      |h14      |h15      |h16      |h17      |h18      |h19      |\n",
       "---------|---------|---------|---------|---------|---------|---------|---------|---------|\n",
       " 0.1027  | 0.1372  | 0.1226  | 0.0868  | 0.1194  | 0.1194  | 0.0800  | 0.1136  | 0.1184  |"
      ]
     },
     "execution_count": 13,
     "metadata": {},
     "output_type": "execute_result"
    }
   ],
   "source": [
    "# LPC de hour_a2 :\n",
    "\n",
    "bn.cpt(\"hour_a2\")"
   ]
  },
  {
   "cell_type": "code",
   "execution_count": 14,
   "metadata": {},
   "outputs": [
    {
     "data": {
      "text/plain": [
       "(pyAgrum.Potential<double>@00000250E04F9980) \n",
       "             ||  lead_answered_a2 |\n",
       "hour_a|hour_a||no       |yes      |\n",
       "------|------||---------|---------|\n",
       "h10   |h10   || 0.8598  | 0.1402  |\n",
       "h11   |h10   || 0.8508  | 0.1492  |\n",
       "h12   |h10   || 0.8558  | 0.1442  |\n",
       "h14   |h10   || 0.8429  | 0.1571  |\n",
       "h15   |h10   || 0.8485  | 0.1515  |\n",
       "h16   |h10   || 0.8486  | 0.1514  |\n",
       "[...69 more line(s) ...]\n",
       "h14   |h19   || 0.8367  | 0.1633  |\n",
       "h15   |h19   || 0.8342  | 0.1658  |\n",
       "h16   |h19   || 0.8396  | 0.1604  |\n",
       "h17   |h19   || 0.8367  | 0.1633  |\n",
       "h18   |h19   || 0.8521  | 0.1479  |\n",
       "h19   |h19   || 0.8548  | 0.1452  |"
      ]
     },
     "execution_count": 14,
     "metadata": {},
     "output_type": "execute_result"
    }
   ],
   "source": [
    "# LPC de probabilité de lead_answered_a2 | hour_a1, hour_a2 :\n",
    "\n",
    "bn.cpt(\"lead_answered_a2\")"
   ]
  },
  {
   "cell_type": "code",
   "execution_count": 15,
   "metadata": {},
   "outputs": [],
   "source": [
    "import pyAgrum as gum\n",
    "import pandas as pd\n",
    "import numpy as np\n",
    "import sys\n",
    "\n",
    "def predict(bn, data, var_target, show_progress=False):\n",
    "    \"\"\"\n",
    "    This function is used to predict the posterior probability of a target variable from observations  \n",
    "    using a bayesian network model. \n",
    "\n",
    "    Inputs:\n",
    "    - =bn=: the predictive model given as a =pyAgrum.BayesNet= object\n",
    "    - =data=: the data containing the observations used to predict the target variable \n",
    "    as a =pandas.DataFrame= object\n",
    "    - =var_target=: the name of the target variable as a =str= object\n",
    "\n",
    "    Returns:\n",
    "    - a =DataFrame= containing the posterior probability distribution of the target \n",
    "    variable given each observation in =data=.\n",
    "    \"\"\"\n",
    "    # Initialize the inference engine\n",
    "    inf_bn = gum.LazyPropagation(bn)\n",
    "    inf_bn.setTargets({var_target})\n",
    "    nb_data = len(data)\n",
    "    target_size = bn.variable(var_target).domainSize()\n",
    "    target_dom = np.array([bn.variable(var_target).label(i)\n",
    "                           for i in range(target_size)])\n",
    "    data_records = data.to_dict(\"records\")\n",
    "    post_prob = np.zeros((nb_data, target_size))\n",
    "    for i in range(nb_data):\n",
    "        # Set the evidence\n",
    "        inf_bn.setEvidence(data_records[i])\n",
    "        # Run inference\n",
    "        inf_bn.makeInference()\n",
    "        # Compute posterior probability of target variable\n",
    "        post_prob[i, :] = inf_bn.posterior(var_target).toarray()\n",
    "        # Erase evidence\n",
    "        inf_bn.eraseAllEvidence()\n",
    "        if show_progress:\n",
    "            sys.stdout.write(\"predict progress: {0:3.0%}\\r\".format(i/nb_data))\n",
    "\n",
    "    post_prob_df = pd.DataFrame(post_prob,\n",
    "                                index=data.index,\n",
    "                                columns=bn.variable(var_target).labels())\n",
    "    post_prob_df.columns.name = var_target\n",
    "    return post_prob_df"
   ]
  },
  {
   "cell_type": "code",
   "execution_count": 17,
   "metadata": {},
   "outputs": [
    {
     "name": "stdout",
     "output_type": "stream",
     "text": [
      "predict progress: 100%\r"
     ]
    },
    {
     "data": {
      "text/plain": [
       "0.7949205079492051"
      ]
     },
     "execution_count": 17,
     "metadata": {},
     "output_type": "execute_result"
    }
   ],
   "source": [
    "# Chaque ligne des données fournies est utilisée comme évidence (conditionnement) pour calculer la loi de la variable cible sachant les données observées.\n",
    "\n",
    "pred_prob = predict(bn, data=calls_dfd[\"a2\"].loc[:10000, [\"hour_a1\", \"hour_a2\"]],\n",
    "                    var_target=\"lead_answered_a2\",\n",
    "                    show_progress=True)\n",
    "\n",
    "pred_var = pred_prob.idxmax(axis=1).rename(\"pred\")\n",
    "# On finit par évaluer le taux de prédictions du modèle par rapport aux données observées.\n",
    "\n",
    "(calls_dfd[\"a2\"].loc[:10000, \"lead_answered_a2\"] == pred_var).mean()"
   ]
  },
  {
   "cell_type": "code",
   "execution_count": 18,
   "metadata": {},
   "outputs": [
    {
     "data": {
      "text/plain": [
       "0.7949205079492051"
      ]
     },
     "execution_count": 18,
     "metadata": {},
     "output_type": "execute_result"
    }
   ],
   "source": [
    "# On finit par évaluer le taux de prédictions du modèle par rapport aux données observées.\n",
    "\n",
    "(calls_dfd[\"a2\"].loc[:10000, \"lead_answered_a2\"] == pred_var).mean()"
   ]
  },
  {
   "cell_type": "code",
   "execution_count": 19,
   "metadata": {},
   "outputs": [
    {
     "data": {
      "text/html": [
       "<div>\n",
       "<style scoped>\n",
       "    .dataframe tbody tr th:only-of-type {\n",
       "        vertical-align: middle;\n",
       "    }\n",
       "\n",
       "    .dataframe tbody tr th {\n",
       "        vertical-align: top;\n",
       "    }\n",
       "\n",
       "    .dataframe thead th {\n",
       "        text-align: right;\n",
       "    }\n",
       "</style>\n",
       "<table border=\"1\" class=\"dataframe\">\n",
       "  <thead>\n",
       "    <tr style=\"text-align: right;\">\n",
       "      <th>pred</th>\n",
       "      <th>no</th>\n",
       "    </tr>\n",
       "    <tr>\n",
       "      <th>lead_answered_a2</th>\n",
       "      <th></th>\n",
       "    </tr>\n",
       "  </thead>\n",
       "  <tbody>\n",
       "    <tr>\n",
       "      <th>no</th>\n",
       "      <td>7950</td>\n",
       "    </tr>\n",
       "    <tr>\n",
       "      <th>yes</th>\n",
       "      <td>2051</td>\n",
       "    </tr>\n",
       "  </tbody>\n",
       "</table>\n",
       "</div>"
      ],
      "text/plain": [
       "pred                no\n",
       "lead_answered_a2      \n",
       "no                7950\n",
       "yes               2051"
      ]
     },
     "execution_count": 19,
     "metadata": {},
     "output_type": "execute_result"
    }
   ],
   "source": [
    "# Et la matrice de confusion associée :\n",
    "\n",
    "pd.crosstab(calls_dfd[\"a2\"].loc[:10000, \"lead_answered_a2\"], pred_var)"
   ]
  }
 ],
 "metadata": {
  "kernelspec": {
   "display_name": "Python 3",
   "language": "python",
   "name": "python3"
  },
  "language_info": {
   "codemirror_mode": {
    "name": "ipython",
    "version": 3
   },
   "file_extension": ".py",
   "mimetype": "text/x-python",
   "name": "python",
   "nbconvert_exporter": "python",
   "pygments_lexer": "ipython3",
   "version": "3.11.4"
  }
 },
 "nbformat": 4,
 "nbformat_minor": 2
}
